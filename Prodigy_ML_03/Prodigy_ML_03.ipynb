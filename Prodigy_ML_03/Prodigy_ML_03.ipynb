{
  "cells": [
    {
      "cell_type": "markdown",
      "metadata": {
        "id": "view-in-github",
        "colab_type": "text"
      },
      "source": [
        "<a href=\"https://colab.research.google.com/github/kushagrasharma-13/Progidy_ML_03/blob/main/Prodigy_ML_03.ipynb\" target=\"_parent\"><img src=\"https://colab.research.google.com/assets/colab-badge.svg\" alt=\"Open In Colab\"/></a>"
      ]
    },
    {
      "cell_type": "code",
      "source": [
        "from google.colab import drive\n",
        "drive.mount('/content/drive')"
      ],
      "metadata": {
        "id": "BZYKLhU34W-1"
      },
      "id": "BZYKLhU34W-1",
      "execution_count": null,
      "outputs": []
    },
    {
      "cell_type": "code",
      "source": [
        "import os\n",
        "import cv2\n",
        "import numpy as np\n",
        "from sklearn import svm\n",
        "from skimage.feature import hog\n",
        "from sklearn.utils import shuffle\n",
        "from sklearn.metrics import classification_report\n",
        "from sklearn.model_selection import train_test_split"
      ],
      "metadata": {
        "id": "YxriHLZN-Fzy"
      },
      "id": "YxriHLZN-Fzy",
      "execution_count": null,
      "outputs": []
    },
    {
      "cell_type": "code",
      "source": [
        "folder_path = \"/content/drive/MyDrive/Python/Datasets/Dogs_&_Cats/dogs&cats_training_set/cats\"\n",
        "\n",
        "files = os.listdir(folder_path)\n",
        "\n",
        "image_files = [file for file in files if file.endswith(('.jpg', '.jpeg', '.png'))]\n",
        "\n",
        "image_paths = [os.path.join(folder_path, file) for file in image_files]\n",
        "\n",
        "\n",
        "folder_path1 = \"/content/drive/MyDrive/Python/Datasets/Dogs_&_Cats/dogs&cats_training_set/dogs\"\n",
        "\n",
        "files1 = os.listdir(folder_path1)\n",
        "\n",
        "image_files1 = [file for file in files1 if file.endswith(('.jpg', '.jpeg', '.png'))]\n",
        "\n",
        "image_paths1 = [os.path.join(folder_path1, file1) for file1 in image_files1]\n",
        "\n",
        "image_paths_all = image_paths1 + image_paths"
      ],
      "metadata": {
        "id": "Az-uY1Lh-e2B"
      },
      "id": "Az-uY1Lh-e2B",
      "execution_count": null,
      "outputs": []
    },
    {
      "cell_type": "code",
      "source": [
        "def load_images(file_paths):\n",
        "    images = []\n",
        "    labels = []\n",
        "    for file_path in file_paths:\n",
        "        image = cv2.imread(file_path)\n",
        "        resized_image = cv2.resize(image, (64, 64))\n",
        "        grayscale_image = cv2.cvtColor(resized_image, cv2.COLOR_BGR2GRAY)\n",
        "        normalized_image = grayscale_image / 255.0\n",
        "        label = file_path.split(\"/\")[-1].split(\".\")[0]\n",
        "\n",
        "        images.append(normalized_image)\n",
        "        labels.append(label)\n",
        "\n",
        "    return images, labels"
      ],
      "metadata": {
        "id": "D0pbfo7M_vEx"
      },
      "id": "D0pbfo7M_vEx",
      "execution_count": null,
      "outputs": []
    },
    {
      "cell_type": "code",
      "source": [
        "file_paths = image_paths_all\n",
        "images, labels = load_images(file_paths)\n",
        "\n",
        "images, labels = shuffle(images, labels, random_state=42)\n",
        "\n",
        "images = np.array(images)\n",
        "labels = np.array(labels)"
      ],
      "metadata": {
        "id": "pNlmnp3dEYfa"
      },
      "id": "pNlmnp3dEYfa",
      "execution_count": null,
      "outputs": []
    },
    {
      "cell_type": "code",
      "source": [
        "X_train, X_test, y_train, y_test = train_test_split(images, labels, test_size=0.2, random_state=42)"
      ],
      "metadata": {
        "id": "qPTyTV5mEc6J"
      },
      "id": "qPTyTV5mEc6J",
      "execution_count": null,
      "outputs": []
    },
    {
      "cell_type": "code",
      "source": [
        "def extract_hog_features(images):\n",
        "    hog_features = []\n",
        "    for image in images:\n",
        "        resized_image = cv2.resize(image, (64, 64))\n",
        "        hog_feature = hog(resized_image, orientations=9, pixels_per_cell=(8, 8),\n",
        "                          cells_per_block=(2, 2), visualize=False, multichannel=True)\n",
        "\n",
        "        hog_features.append(hog_feature)\n",
        "\n",
        "    return np.array(hog_features)"
      ],
      "metadata": {
        "id": "8VxD_pbIF6lp"
      },
      "id": "8VxD_pbIF6lp",
      "execution_count": null,
      "outputs": []
    },
    {
      "cell_type": "code",
      "source": [
        "X_train_hog = extract_hog_features(X_train)\n",
        "X_test_hog = extract_hog_features(X_test)"
      ],
      "metadata": {
        "id": "V5NdAf7KF8Tx"
      },
      "id": "V5NdAf7KF8Tx",
      "execution_count": null,
      "outputs": []
    },
    {
      "cell_type": "code",
      "source": [
        "svm_classifier = svm.SVC()\n",
        "\n",
        "svm_classifier.fit(X_train_hog, y_train)"
      ],
      "metadata": {
        "id": "aX8Oa77WF9mR"
      },
      "id": "aX8Oa77WF9mR",
      "execution_count": null,
      "outputs": []
    },
    {
      "cell_type": "code",
      "source": [
        "y_pred = svm_classifier.predict(X_test_hog)\n",
        "\n",
        "print(classification_report(y_test, y_pred))"
      ],
      "metadata": {
        "id": "eKGRkQJOF_CR"
      },
      "id": "eKGRkQJOF_CR",
      "execution_count": null,
      "outputs": []
    },
    {
      "cell_type": "code",
      "source": [
        "new_image = cv2.imread('new_image.jpg')\n",
        "new_image_hog = extract_hog_features([new_image])"
      ],
      "metadata": {
        "id": "V9At-p0oGAaL"
      },
      "id": "V9At-p0oGAaL",
      "execution_count": null,
      "outputs": []
    },
    {
      "cell_type": "code",
      "source": [
        "prediction = svm_classifier.predict(new_image_hog)\n",
        "print(prediction)"
      ],
      "metadata": {
        "id": "jrXFwboi7uH8"
      },
      "id": "jrXFwboi7uH8",
      "execution_count": null,
      "outputs": []
    }
  ],
  "metadata": {
    "kernelspec": {
      "display_name": "Python 3",
      "language": "python",
      "name": "python3"
    },
    "language_info": {
      "codemirror_mode": {
        "name": "ipython",
        "version": 3
      },
      "file_extension": ".py",
      "mimetype": "text/x-python",
      "name": "python",
      "nbconvert_exporter": "python",
      "pygments_lexer": "ipython3",
      "version": "3.7.12"
    },
    "papermill": {
      "default_parameters": {},
      "duration": 15.011636,
      "end_time": "2022-05-20T11:59:16.921912",
      "environment_variables": {},
      "exception": true,
      "input_path": "__notebook__.ipynb",
      "output_path": "__notebook__.ipynb",
      "parameters": {},
      "start_time": "2022-05-20T11:59:01.910276",
      "version": "2.3.4"
    },
    "colab": {
      "provenance": [],
      "include_colab_link": true
    }
  },
  "nbformat": 4,
  "nbformat_minor": 5
}